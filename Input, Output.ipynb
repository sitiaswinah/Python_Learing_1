{
 "cells": [
  {
   "cell_type": "markdown",
   "id": "07139790-ccf8-4bf3-9490-6358aa42712e",
   "metadata": {},
   "source": [
    "# **Variable**"
   ]
  },
  {
   "cell_type": "markdown",
   "id": "8e66f997-9cf7-4b71-987c-69e2449661a5",
   "metadata": {},
   "source": [
    "**A variable is a place (in computer memory) to store values ​​with a certain data type.\n",
    "To assign a value to a variable, we use the \"=\" operator between the variable name and the value we want to store**"
   ]
  },
  {
   "cell_type": "code",
   "execution_count": 2,
   "id": "f784a1cf-980b-4255-91f9-9b5e362de2cb",
   "metadata": {},
   "outputs": [],
   "source": [
    "a = 3\n",
    "\n",
    "#artinya kita akan menyimpan nilai 3 (type int) ke variable a"
   ]
  },
  {
   "cell_type": "markdown",
   "id": "f0e7ef54-97bc-4108-be63-42f9b974e2d3",
   "metadata": {},
   "source": [
    "# **Print**"
   ]
  },
  {
   "cell_type": "markdown",
   "id": "472ea447-2107-4a9a-90dd-629daae3e39f",
   "metadata": {},
   "source": [
    "**print() function is a direct way of output to the console/screen**"
   ]
  },
  {
   "cell_type": "code",
   "execution_count": 7,
   "id": "5dd204a0-89bb-44ea-a715-700ca99a7064",
   "metadata": {},
   "outputs": [
    {
     "name": "stdout",
     "output_type": "stream",
     "text": [
      "How Are You\n"
     ]
    }
   ],
   "source": [
    "print(\"How Are You\")"
   ]
  },
  {
   "cell_type": "markdown",
   "id": "ef1ff88c-2d47-4a53-be5d-dfece65cb0b8",
   "metadata": {},
   "source": [
    "**inserting variable values ​​into strings. There are several ways to enter variable values**"
   ]
  },
  {
   "cell_type": "markdown",
   "id": "8d8e513b-aefe-4352-bba7-5f64ba61daa1",
   "metadata": {},
   "source": [
    "**directly combine variables in the print() statement**"
   ]
  },
  {
   "cell_type": "code",
   "execution_count": 10,
   "id": "2109a9a5-e9b7-4668-b108-6e9eb4cd924e",
   "metadata": {},
   "outputs": [
    {
     "name": "stdout",
     "output_type": "stream",
     "text": [
      "Nilai variabel a adalah 3\n"
     ]
    }
   ],
   "source": [
    "#-directly combine variables in the print()** statement\n",
    "\n",
    "print(\"Nilai variabel a adalah\", a)"
   ]
  },
  {
   "cell_type": "raw",
   "id": "014042db-e008-46d9-bf8d-6d7feae546ef",
   "metadata": {},
   "source": []
  },
  {
   "cell_type": "code",
   "execution_count": 13,
   "id": "5d511e4e-4ac3-4891-82e2-fd13e878b90d",
   "metadata": {},
   "outputs": [],
   "source": [
    "# -To display text (String) we usually use the formatting mechanism\n",
    "\n",
    "nama = 'Aswinah'"
   ]
  },
  {
   "cell_type": "code",
   "execution_count": 14,
   "id": "9a108f65-fbe4-4c04-a7ba-db6142e1da2c",
   "metadata": {},
   "outputs": [
    {
     "name": "stdout",
     "output_type": "stream",
     "text": [
      "Nama saya adalah Aswinah\n"
     ]
    }
   ],
   "source": [
    "print(\"Nama saya adalah\", nama)"
   ]
  },
  {
   "cell_type": "markdown",
   "id": "7c7978b2-1ab7-4f81-bbc6-5dceeca0c622",
   "metadata": {},
   "source": [
    "**Using the \"%\" operator appended with \"Argument Specialist\"**\r\n",
    "\r\n",
    "Some examples of commonly used argument specifiers:\r\n",
    "- % - String\r\n",
    "- %d - Integers\r\n",
    "- %f - Decimal Number"
   ]
  },
  {
   "cell_type": "code",
   "execution_count": 15,
   "id": "ef58bbce-3912-47bb-bc16-ef3ef5aed042",
   "metadata": {},
   "outputs": [],
   "source": [
    "nama = \"Siti Aswinah\""
   ]
  },
  {
   "cell_type": "code",
   "execution_count": 16,
   "id": "bea816e3-9ded-4f52-a45e-3a73c8af7c83",
   "metadata": {},
   "outputs": [
    {
     "data": {
      "text/plain": [
       "str"
      ]
     },
     "execution_count": 16,
     "metadata": {},
     "output_type": "execute_result"
    }
   ],
   "source": [
    "type(nama)"
   ]
  },
  {
   "cell_type": "code",
   "execution_count": 17,
   "id": "e0ed2717-d9c9-409d-88e3-009ffc1970b3",
   "metadata": {},
   "outputs": [],
   "source": [
    "usia = 20"
   ]
  },
  {
   "cell_type": "code",
   "execution_count": 18,
   "id": "a474f58c-5f3b-45ce-9ab8-6fa5680e0986",
   "metadata": {},
   "outputs": [
    {
     "data": {
      "text/plain": [
       "int"
      ]
     },
     "execution_count": 18,
     "metadata": {},
     "output_type": "execute_result"
    }
   ],
   "source": [
    "type(usia)"
   ]
  },
  {
   "cell_type": "code",
   "execution_count": 20,
   "id": "f446e783-ae8b-472c-b34d-e6012b271496",
   "metadata": {},
   "outputs": [
    {
     "name": "stdout",
     "output_type": "stream",
     "text": [
      "Usia Siti Aswinah adalah 20 tahun.\n"
     ]
    }
   ],
   "source": [
    "print(\"Usia %s adalah %d tahun.\" % (nama, usia))"
   ]
  },
  {
   "cell_type": "markdown",
   "id": "66a8e374-715b-437a-85a5-1106d05f34da",
   "metadata": {},
   "source": [
    "# **Input()**"
   ]
  },
  {
   "cell_type": "markdown",
   "id": "f660c99b-4c3e-48fc-a9db-dc31e1f9c475",
   "metadata": {},
   "source": [
    "**Untuk memungkinkan user memberikan input pada program\n",
    "ditamplkan (prompt) dan variabel sebelum tanda sama dengan**"
   ]
  },
  {
   "cell_type": "code",
   "execution_count": 21,
   "id": "9837345c-6df5-45a2-ab50-407011c363d6",
   "metadata": {},
   "outputs": [
    {
     "name": "stdin",
     "output_type": "stream",
     "text": [
      "Nama saya adalah Siti Aswinah\n"
     ]
    }
   ],
   "source": [
    "nama = input(\"Nama saya adalah\")"
   ]
  },
  {
   "cell_type": "markdown",
   "id": "72effc46-c81c-4f3c-a382-cdcc74421369",
   "metadata": {},
   "source": [
    "**Secara default, input dari user adalah string**"
   ]
  },
  {
   "cell_type": "code",
   "execution_count": 22,
   "id": "3c353323-cfd1-46b0-9945-0706f815a2d9",
   "metadata": {},
   "outputs": [
    {
     "name": "stdin",
     "output_type": "stream",
     "text": [
      "usia saya : 20\n"
     ]
    }
   ],
   "source": [
    "umur = input(\"usia saya :\")"
   ]
  },
  {
   "cell_type": "code",
   "execution_count": 23,
   "id": "bc4ffa8e-b11e-4498-9efc-5a259586784a",
   "metadata": {},
   "outputs": [
    {
     "data": {
      "text/plain": [
       "str"
      ]
     },
     "execution_count": 23,
     "metadata": {},
     "output_type": "execute_result"
    }
   ],
   "source": [
    "type(umur)"
   ]
  },
  {
   "cell_type": "code",
   "execution_count": 24,
   "id": "d9325779-6fd8-49c9-83b7-74587804e681",
   "metadata": {},
   "outputs": [
    {
     "name": "stdin",
     "output_type": "stream",
     "text": [
      "Masukkan nama Anda : Siti Aswinah\n"
     ]
    }
   ],
   "source": [
    "nama = input(\"Masukkan nama Anda :\")"
   ]
  },
  {
   "cell_type": "code",
   "execution_count": 25,
   "id": "11979039-82bc-4eb8-b092-768dcd0710a1",
   "metadata": {},
   "outputs": [
    {
     "name": "stdin",
     "output_type": "stream",
     "text": [
      "Masukan alamat email Anda : sitiaswinah@gmail.com\n"
     ]
    }
   ],
   "source": [
    "email = input(\"Masukan alamat email Anda :\")"
   ]
  },
  {
   "cell_type": "code",
   "execution_count": 26,
   "id": "201827a9-233d-469e-b9ca-238c48c79992",
   "metadata": {},
   "outputs": [
    {
     "name": "stdin",
     "output_type": "stream",
     "text": [
      "Masukan nomor teleon Anda : 0831511\n"
     ]
    }
   ],
   "source": [
    "telepon = input(\"Masukan nomor teleon Anda :\")"
   ]
  },
  {
   "cell_type": "code",
   "execution_count": 27,
   "id": "03b2351b-2987-4fdb-a225-eb4fe2021f5e",
   "metadata": {},
   "outputs": [
    {
     "name": "stdout",
     "output_type": "stream",
     "text": [
      "Terima kasih! Berikut adalah informasi yang anda berikan :\n",
      "Nama : Siti Aswinah\n",
      "Email : sitiaswinah@gmail.com\n",
      "Nomor Telepon : 0831511\n"
     ]
    }
   ],
   "source": [
    "print(\"Terima kasih! Berikut adalah informasi yang anda berikan :\")\n",
    "print(\"Nama :\", nama)\n",
    "print(\"Email :\", email)\n",
    "print(\"Nomor Telepon :\", telepon)"
   ]
  },
  {
   "cell_type": "code",
   "execution_count": 28,
   "id": "8f5a8507-5bf3-439d-a5e0-442fac08e9b1",
   "metadata": {},
   "outputs": [
    {
     "ename": "SyntaxError",
     "evalue": "expected ':' (1007859937.py, line 5)",
     "output_type": "error",
     "traceback": [
      "\u001b[1;36m  Cell \u001b[1;32mIn[28], line 5\u001b[1;36m\u001b[0m\n\u001b[1;33m    else usia <20:\u001b[0m\n\u001b[1;37m         ^\u001b[0m\n\u001b[1;31mSyntaxError\u001b[0m\u001b[1;31m:\u001b[0m expected ':'\n"
     ]
    }
   ],
   "source": [
    "usia = int(input(\"Usia Anda\"))\n",
    "\n",
    "if usia >= 20:\n",
    "    print(\"Sudah masuk kuliah\")\n",
    "else usia <20:\n",
    "    print(\"belum bisa masuk kuliah\")"
   ]
  },
  {
   "cell_type": "code",
   "execution_count": null,
   "id": "c288ce48-1cf8-4c14-a6f8-bdc6ef63c5cd",
   "metadata": {},
   "outputs": [],
   "source": []
  }
 ],
 "metadata": {
  "kernelspec": {
   "display_name": "Python 3 (ipykernel)",
   "language": "python",
   "name": "python3"
  },
  "language_info": {
   "codemirror_mode": {
    "name": "ipython",
    "version": 3
   },
   "file_extension": ".py",
   "mimetype": "text/x-python",
   "name": "python",
   "nbconvert_exporter": "python",
   "pygments_lexer": "ipython3",
   "version": "3.11.7"
  }
 },
 "nbformat": 4,
 "nbformat_minor": 5
}
