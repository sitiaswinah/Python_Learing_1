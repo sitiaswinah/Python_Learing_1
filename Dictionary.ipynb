{
 "cells": [
  {
   "cell_type": "markdown",
   "id": "55756d93-ee2e-4db5-8743-06ad937adfe2",
   "metadata": {},
   "source": [
    "# **Dictionary**"
   ]
  },
  {
   "cell_type": "markdown",
   "id": "a2b04aab-dbac-49c6-93f7-fb8c0c412482",
   "metadata": {},
   "source": [
    "**A dictionary in Python is a collection of unordered key-value pairs. Dictionaries can be used to convey small to large data. To access the data we have to know the key. In the Python Dictionary it is defined with curly braces and additional definitions:**\n",
    "\n",
    "**- Each pair-key value element is separated by a comma (,)**\n",
    "**- Key and value are separated by a colon (:)**\n",
    "**- Keys and values ​​can be any type of variable / object**"
   ]
  },
  {
   "cell_type": "code",
   "execution_count": 1,
   "id": "af3b92d1-a852-44e8-a633-b5ef68f582d5",
   "metadata": {},
   "outputs": [],
   "source": [
    "a = {\"Pathway\" : \"Data Analyst\", \"Kelas\" : \"B\", \"Kelompok\" : 4}"
   ]
  },
  {
   "cell_type": "code",
   "execution_count": 2,
   "id": "b3ac98bb-5d91-49f0-adc9-c5e09fa16cdc",
   "metadata": {},
   "outputs": [
    {
     "data": {
      "text/plain": [
       "dict"
      ]
     },
     "execution_count": 2,
     "metadata": {},
     "output_type": "execute_result"
    }
   ],
   "source": [
    "type(a)"
   ]
  },
  {
   "cell_type": "code",
   "execution_count": 3,
   "id": "906729ae-4f05-4cd8-816d-9626dc79dccf",
   "metadata": {},
   "outputs": [
    {
     "data": {
      "text/plain": [
       "4"
      ]
     },
     "execution_count": 3,
     "metadata": {},
     "output_type": "execute_result"
    }
   ],
   "source": [
    "a[\"Kelompok\"]"
   ]
  },
  {
   "cell_type": "code",
   "execution_count": 4,
   "id": "544144ad-4dc2-4a49-8155-4837580420f2",
   "metadata": {},
   "outputs": [
    {
     "data": {
      "text/plain": [
       "'Data Analyst'"
      ]
     },
     "execution_count": 4,
     "metadata": {},
     "output_type": "execute_result"
    }
   ],
   "source": [
    "a[\"Pathway\"]"
   ]
  },
  {
   "cell_type": "code",
   "execution_count": 5,
   "id": "2ef6047e-29f0-46a3-ac51-57954354531d",
   "metadata": {},
   "outputs": [],
   "source": [
    "b = {\"pathway\" : {\"pathway_1\" : \"Data Analyst\",\n",
    "                  \"pathway_2\" : \"UI/UX Desainer\"}\n",
    "    }"
   ]
  },
  {
   "cell_type": "code",
   "execution_count": 6,
   "id": "c51bd39b-e0c3-4d79-91d6-fe6fe8a2f555",
   "metadata": {},
   "outputs": [
    {
     "data": {
      "text/plain": [
       "'Data Analyst'"
      ]
     },
     "execution_count": 6,
     "metadata": {},
     "output_type": "execute_result"
    }
   ],
   "source": [
    "b['pathway']['pathway_1']"
   ]
  },
  {
   "cell_type": "code",
   "execution_count": 7,
   "id": "06148012-4bab-4655-a8f6-81d2de65a49b",
   "metadata": {},
   "outputs": [
    {
     "data": {
      "text/plain": [
       "'UI/UX Desainer'"
      ]
     },
     "execution_count": 7,
     "metadata": {},
     "output_type": "execute_result"
    }
   ],
   "source": [
    "b['pathway']['pathway_2']"
   ]
  }
 ],
 "metadata": {
  "kernelspec": {
   "display_name": "Python 3 (ipykernel)",
   "language": "python",
   "name": "python3"
  },
  "language_info": {
   "codemirror_mode": {
    "name": "ipython",
    "version": 3
   },
   "file_extension": ".py",
   "mimetype": "text/x-python",
   "name": "python",
   "nbconvert_exporter": "python",
   "pygments_lexer": "ipython3",
   "version": "3.11.7"
  }
 },
 "nbformat": 4,
 "nbformat_minor": 5
}
