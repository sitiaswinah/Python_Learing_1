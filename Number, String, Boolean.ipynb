{
 "cells": [
  {
   "cell_type": "markdown",
   "id": "5246b7a1-2d1d-4981-91aa-78249889b674",
   "metadata": {},
   "source": [
    "# **The built-in data types in Python are as follows:**"
   ]
  },
  {
   "cell_type": "markdown",
   "id": "d188a441-3ad9-492d-9117-152582959716",
   "metadata": {},
   "source": [
    "**1. Numbers: The number data types in Python are divided into three categories: int, float, and complex.**"
   ]
  },
  {
   "cell_type": "code",
   "execution_count": 1,
   "id": "65b4ebcf-ea4a-43c0-8e8a-6282b5afe677",
   "metadata": {},
   "outputs": [],
   "source": [
    "a = 10"
   ]
  },
  {
   "cell_type": "code",
   "execution_count": 2,
   "id": "f00bb4d4-653c-4b56-99b4-35e9529adda6",
   "metadata": {},
   "outputs": [
    {
     "data": {
      "text/plain": [
       "int"
      ]
     },
     "execution_count": 2,
     "metadata": {},
     "output_type": "execute_result"
    }
   ],
   "source": [
    "type(a)"
   ]
  },
  {
   "cell_type": "code",
   "execution_count": 3,
   "id": "1bcf86d6-da30-498e-9cc0-42a2da0a7a7e",
   "metadata": {},
   "outputs": [],
   "source": [
    "b = 7.1"
   ]
  },
  {
   "cell_type": "code",
   "execution_count": 4,
   "id": "9ae18203-a43c-40ae-8ec6-aeeb91d8ca20",
   "metadata": {},
   "outputs": [
    {
     "data": {
      "text/plain": [
       "float"
      ]
     },
     "execution_count": 4,
     "metadata": {},
     "output_type": "execute_result"
    }
   ],
   "source": [
    "type(b)"
   ]
  },
  {
   "cell_type": "code",
   "execution_count": 5,
   "id": "d6802f27-2972-40cb-86ca-19e34c92b0e5",
   "metadata": {},
   "outputs": [],
   "source": [
    "a = 1"
   ]
  },
  {
   "cell_type": "code",
   "execution_count": 6,
   "id": "2cc4db73-1e8b-494b-981f-19d2a9970ffc",
   "metadata": {},
   "outputs": [
    {
     "data": {
      "text/plain": [
       "int"
      ]
     },
     "execution_count": 6,
     "metadata": {},
     "output_type": "execute_result"
    }
   ],
   "source": [
    "type(a)"
   ]
  },
  {
   "cell_type": "code",
   "execution_count": 7,
   "id": "085b8ac3-557c-4101-aa26-84be7223f7d5",
   "metadata": {},
   "outputs": [],
   "source": [
    "b = 1.0"
   ]
  },
  {
   "cell_type": "code",
   "execution_count": 8,
   "id": "48b444bf-2449-4edb-97b9-e3d61a183fc3",
   "metadata": {},
   "outputs": [
    {
     "data": {
      "text/plain": [
       "float"
      ]
     },
     "execution_count": 8,
     "metadata": {},
     "output_type": "execute_result"
    }
   ],
   "source": [
    "type(b)"
   ]
  },
  {
   "cell_type": "markdown",
   "id": "a63f758d-7844-42f8-9eca-326f32e836d2",
   "metadata": {},
   "source": [
    "**Python also supports imaginary and complex numbers. Complex number values are written in the form of x + yj, where x is the real part, and y is the imaginary part. For example:**"
   ]
  },
  {
   "cell_type": "code",
   "execution_count": 9,
   "id": "5724e13b-8a2e-4bcf-975f-7bc8e42b95de",
   "metadata": {},
   "outputs": [],
   "source": [
    "c = 1+3j"
   ]
  },
  {
   "cell_type": "code",
   "execution_count": 10,
   "id": "0973e81f-ab75-4a30-b05d-bc01f8d9bed2",
   "metadata": {},
   "outputs": [
    {
     "data": {
      "text/plain": [
       "complex"
      ]
     },
     "execution_count": 10,
     "metadata": {},
     "output_type": "execute_result"
    }
   ],
   "source": [
    "type(c)"
   ]
  },
  {
   "cell_type": "markdown",
   "id": "63d3123e-cca4-495d-a7ea-7d113e7b9afb",
   "metadata": {},
   "source": [
    "# 2. String: A string is a data type used to represent and manipulate textual data in computer programming"
   ]
  },
  {
   "cell_type": "code",
   "execution_count": 11,
   "id": "d79ca30b-405f-4ed1-b6ac-36e4715b854f",
   "metadata": {},
   "outputs": [],
   "source": [
    "a = \"Hello world\""
   ]
  },
  {
   "cell_type": "code",
   "execution_count": 12,
   "id": "25c3fc05-afda-43ac-8503-a1c28883b6c7",
   "metadata": {},
   "outputs": [
    {
     "name": "stdout",
     "output_type": "stream",
     "text": [
      "Hello world\n"
     ]
    }
   ],
   "source": [
    "print(a)"
   ]
  },
  {
   "cell_type": "code",
   "execution_count": 13,
   "id": "4979895d-9195-4add-883f-e23dfe8cc0e1",
   "metadata": {},
   "outputs": [
    {
     "data": {
      "text/plain": [
       "str"
      ]
     },
     "execution_count": 13,
     "metadata": {},
     "output_type": "execute_result"
    }
   ],
   "source": [
    "type(a)"
   ]
  },
  {
   "cell_type": "markdown",
   "id": "a6877e1c-e36a-453e-bde1-fa7057bc7346",
   "metadata": {},
   "source": [
    "contoh string dengan empat baris menggunakan triple petik."
   ]
  },
  {
   "cell_type": "code",
   "execution_count": 14,
   "id": "bb785ea0-8e88-4356-aa07-c6fb555334e6",
   "metadata": {},
   "outputs": [],
   "source": [
    "a = \"\"\"Bootcamp Data Analyst.\n",
    "Kampus Merdeka x MyEduSolve\n",
    "Kelas B.\"\"\""
   ]
  },
  {
   "cell_type": "code",
   "execution_count": 15,
   "id": "7e4f4869-61f5-4f33-999b-8b763f8ff58d",
   "metadata": {},
   "outputs": [
    {
     "name": "stdout",
     "output_type": "stream",
     "text": [
      "Bootcamp Data Analyst.\n",
      "Kampus Merdeka x MyEduSolve\n",
      "Kelas B.\n"
     ]
    }
   ],
   "source": [
    "print(a)"
   ]
  },
  {
   "cell_type": "markdown",
   "id": "d287fd93-1dec-45c6-9385-73591c82453e",
   "metadata": {},
   "source": [
    "contoh string\\dengan empat baris\\ndengan karakter newline.\""
   ]
  },
  {
   "cell_type": "code",
   "execution_count": 16,
   "id": "48309e93-3117-4d99-91f3-cbe74e7c4b45",
   "metadata": {},
   "outputs": [],
   "source": [
    "b = \"Bootcamp Data Analyst. \\nKampus Merdeka x MyEduSolve \\nKelas B.\""
   ]
  },
  {
   "cell_type": "code",
   "execution_count": 17,
   "id": "58810f37-f140-422d-8e5e-2da4b33e9f7c",
   "metadata": {},
   "outputs": [
    {
     "name": "stdout",
     "output_type": "stream",
     "text": [
      "Bootcamp Data Analyst. \n",
      "Kampus Merdeka x MyEduSolve \n",
      "Kelas B.\n"
     ]
    }
   ],
   "source": [
    "print(b)"
   ]
  },
  {
   "cell_type": "code",
   "execution_count": 18,
   "id": "1ccb11d8-5ccf-4ed0-9ea1-a2c8352f92f7",
   "metadata": {},
   "outputs": [
    {
     "ename": "SyntaxError",
     "evalue": "unterminated string literal (detected at line 1) (2730902996.py, line 1)",
     "output_type": "error",
     "traceback": [
      "\u001b[1;36m  Cell \u001b[1;32mIn[18], line 1\u001b[1;36m\u001b[0m\n\u001b[1;33m    'jum'at'\u001b[0m\n\u001b[1;37m           ^\u001b[0m\n\u001b[1;31mSyntaxError\u001b[0m\u001b[1;31m:\u001b[0m unterminated string literal (detected at line 1)\n"
     ]
    }
   ],
   "source": [
    "'jum'at'\n",
    "#ketika ada kata yang menggunakan tanda petik saru maka untuk mengeksekusinya harus menggunakan tanda petik 2"
   ]
  },
  {
   "cell_type": "code",
   "execution_count": 19,
   "id": "63c2f8ad-c3df-4c43-a20c-df442a07b61f",
   "metadata": {},
   "outputs": [
    {
     "data": {
      "text/plain": [
       "\"i'am sorry\""
      ]
     },
     "execution_count": 19,
     "metadata": {},
     "output_type": "execute_result"
    }
   ],
   "source": [
    "\"i'am sorry\"\n",
    "#contoh yg benar"
   ]
  },
  {
   "cell_type": "markdown",
   "id": "0e607ca6-848d-4b9a-86ae-383a5fcd01ee",
   "metadata": {},
   "source": [
    "# 3 Boolean Tipe Data bool atau Boolean merupakan turunan dri bilangan blat (integer atau int) yang hanya punya dua yaitu True & False"
   ]
  },
  {
   "cell_type": "code",
   "execution_count": 20,
   "id": "075e50ac-c683-4a54-96a1-e561fda891c4",
   "metadata": {},
   "outputs": [
    {
     "data": {
      "text/plain": [
       "False"
      ]
     },
     "execution_count": 20,
     "metadata": {},
     "output_type": "execute_result"
    }
   ],
   "source": [
    "2>5"
   ]
  },
  {
   "cell_type": "code",
   "execution_count": 21,
   "id": "180828b7-6e8a-4ab2-b183-b48fef479dfc",
   "metadata": {},
   "outputs": [
    {
     "data": {
      "text/plain": [
       "False"
      ]
     },
     "execution_count": 21,
     "metadata": {},
     "output_type": "execute_result"
    }
   ],
   "source": [
    "2==5"
   ]
  },
  {
   "cell_type": "code",
   "execution_count": 22,
   "id": "db6d716f-eba5-4af3-a8a9-4cfa8e1d9f05",
   "metadata": {},
   "outputs": [
    {
     "data": {
      "text/plain": [
       "True"
      ]
     },
     "execution_count": 22,
     "metadata": {},
     "output_type": "execute_result"
    }
   ],
   "source": [
    "3<=3"
   ]
  },
  {
   "cell_type": "code",
   "execution_count": 23,
   "id": "50d8b766-867f-49d1-b836-0bece90daac3",
   "metadata": {},
   "outputs": [
    {
     "data": {
      "text/plain": [
       "True"
      ]
     },
     "execution_count": 23,
     "metadata": {},
     "output_type": "execute_result"
    }
   ],
   "source": [
    "4!=9"
   ]
  },
  {
   "cell_type": "code",
   "execution_count": null,
   "id": "54e73a88-aff4-48f7-8ab4-2569587011e0",
   "metadata": {},
   "outputs": [],
   "source": []
  }
 ],
 "metadata": {
  "kernelspec": {
   "display_name": "Python 3 (ipykernel)",
   "language": "python",
   "name": "python3"
  },
  "language_info": {
   "codemirror_mode": {
    "name": "ipython",
    "version": 3
   },
   "file_extension": ".py",
   "mimetype": "text/x-python",
   "name": "python",
   "nbconvert_exporter": "python",
   "pygments_lexer": "ipython3",
   "version": "3.11.7"
  }
 },
 "nbformat": 4,
 "nbformat_minor": 5
}
