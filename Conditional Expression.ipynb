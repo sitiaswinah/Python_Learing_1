{
 "cells": [
  {
   "cell_type": "markdown",
   "id": "d944e284-9abe-40c9-8e95-340be5c8676c",
   "metadata": {},
   "source": [
    "# **IF**"
   ]
  },
  {
   "cell_type": "markdown",
   "id": "d3a0bb72-2c34-48b2-86a2-8682a68594f4",
   "metadata": {},
   "source": [
    "- In python expressions are placed after if and the decision is determined based on the truth value of the expression\n",
    "- if the expression evaluates to true, then the statement block inside the if statement will be execut.\n",
    "- -according to the conversion, the block has an indent after the colo\n",
    "- \r\n",
    "-if the expression evaluates to false, then the next block (after the IF statement) will be executed"
   ]
  },
  {
   "cell_type": "code",
   "execution_count": 1,
   "id": "27b394c5-f1d8-4636-9efa-d0b557c8752d",
   "metadata": {},
   "outputs": [
    {
     "name": "stdout",
     "output_type": "stream",
     "text": [
      "Benar namaku Siti Aswinah\n"
     ]
    }
   ],
   "source": [
    "namaku = \"Siti Aswinah\"\n",
    "\n",
    "if namaku :\n",
    "    print(\"Benar namaku {}\".format(namaku))"
   ]
  },
  {
   "cell_type": "code",
   "execution_count": 3,
   "id": "ede5a6a5-e31a-49d2-ac08-cddaa8a5df1f",
   "metadata": {},
   "outputs": [
    {
     "name": "stdout",
     "output_type": "stream",
     "text": [
      "nama saya adalah Siti Aswinah\n"
     ]
    }
   ],
   "source": [
    "namaku = \"Siti Aswinah\"\n",
    "\n",
    "if namaku :\n",
    "    print(\"nama saya adalah {}\".format(namaku))"
   ]
  },
  {
   "cell_type": "code",
   "execution_count": 4,
   "id": "8d5a4020-1fa4-44c9-82c9-ff1fa187a132",
   "metadata": {},
   "outputs": [],
   "source": [
    "usiaku =\"20\""
   ]
  },
  {
   "cell_type": "code",
   "execution_count": 5,
   "id": "6132cac6-a70c-43a7-8d9f-54a14d35b1ee",
   "metadata": {},
   "outputs": [
    {
     "name": "stdout",
     "output_type": "stream",
     "text": [
      "Umur saya adalah 20\n"
     ]
    }
   ],
   "source": [
    "if usiaku:\n",
    "    print(\"Umur saya adalah {}\".format(usiaku))"
   ]
  },
  {
   "cell_type": "markdown",
   "id": "3c8da911-07c0-4ba8-bc31-3a9583206ab6",
   "metadata": {},
   "source": [
    "# **Else**"
   ]
  },
  {
   "cell_type": "markdown",
   "id": "9062313b-3ab3-45de-986c-9474ce0747ad",
   "metadata": {},
   "source": [
    "- Statement Else dapat dikombinasikan dengan IF Statement sebagai jalan keluar saat kondisi / hasil evaluasi bernilai False\n",
    "- Else berdifat opsional dan tunggal"
   ]
  },
  {
   "cell_type": "code",
   "execution_count": 6,
   "id": "2264de35-7821-4d21-99c9-401e2c2c853c",
   "metadata": {},
   "outputs": [
    {
     "name": "stdin",
     "output_type": "stream",
     "text": [
      "Usia Anda:  20\n"
     ]
    }
   ],
   "source": [
    "usia = (input(\"Usia Anda: \"))"
   ]
  },
  {
   "cell_type": "code",
   "execution_count": 7,
   "id": "a5e8a6bd-3276-457e-89dd-0829a4b93d67",
   "metadata": {},
   "outputs": [
    {
     "name": "stdin",
     "output_type": "stream",
     "text": [
      " 20\n"
     ]
    },
    {
     "data": {
      "text/plain": [
       "20"
      ]
     },
     "execution_count": 7,
     "metadata": {},
     "output_type": "execute_result"
    }
   ],
   "source": [
    "int(input())"
   ]
  },
  {
   "cell_type": "code",
   "execution_count": 12,
   "id": "eceeda98-a398-4b72-a927-0cdf84f00abf",
   "metadata": {},
   "outputs": [
    {
     "name": "stdin",
     "output_type": "stream",
     "text": [
      "Usia Anda:  20\n"
     ]
    },
    {
     "name": "stdout",
     "output_type": "stream",
     "text": [
      "Sudah masuk kuliah\n"
     ]
    }
   ],
   "source": [
    "usia = int(input(\"Usia Anda: \"))\n",
    "\n",
    "if usia >= 20:\n",
    "    print(\"Sudah masuk kuliah\")\n",
    "else:\n",
    "    print(\"belum bisa masuk kuliah\")"
   ]
  },
  {
   "cell_type": "markdown",
   "id": "93276751-f140-4955-bec0-23dcc7b316f9",
   "metadata": {},
   "source": [
    "# Elif"
   ]
  },
  {
   "cell_type": "markdown",
   "id": "2b4996d7-2a2b-410b-962d-9db7a4a64856",
   "metadata": {},
   "source": [
    "- Elif is short for else if\n",
    "- Elif is an alternative to nested if\n",
    "- an IF Statement can be followed by one or more elif statements (optional and not limited)"
   ]
  },
  {
   "cell_type": "code",
   "execution_count": 13,
   "id": "1e6652ff-4281-4f45-95c8-2badc0a017d5",
   "metadata": {},
   "outputs": [
    {
     "name": "stdin",
     "output_type": "stream",
     "text": [
      "Berapa nilai anda:  20\n"
     ]
    },
    {
     "name": "stdout",
     "output_type": "stream",
     "text": [
      "Anda Mendapat nilai C\n"
     ]
    }
   ],
   "source": [
    "nilai = int(input(\"Berapa nilai anda: \"))\n",
    "\n",
    "if nilai >= 80:\n",
    "    print(\"Anda mendapat nilai A\")\n",
    "elif nilai >=60:\n",
    "    print(\"Anda mendapatkan nilai B\")\n",
    "else :\n",
    "    print(\"Anda Mendapat nilai C\")"
   ]
  },
  {
   "cell_type": "code",
   "execution_count": null,
   "id": "01433d0e-c43b-4dcf-aa2e-2d94249a1f13",
   "metadata": {},
   "outputs": [],
   "source": []
  }
 ],
 "metadata": {
  "kernelspec": {
   "display_name": "Python 3 (ipykernel)",
   "language": "python",
   "name": "python3"
  },
  "language_info": {
   "codemirror_mode": {
    "name": "ipython",
    "version": 3
   },
   "file_extension": ".py",
   "mimetype": "text/x-python",
   "name": "python",
   "nbconvert_exporter": "python",
   "pygments_lexer": "ipython3",
   "version": "3.11.7"
  }
 },
 "nbformat": 4,
 "nbformat_minor": 5
}
