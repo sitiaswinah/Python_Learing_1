{
 "cells": [
  {
   "cell_type": "markdown",
   "id": "680c0a9f-9db2-43c0-8dc6-ab568bd53166",
   "metadata": {},
   "source": [
    "# **Set**"
   ]
  },
  {
   "cell_type": "markdown",
   "id": "9442de78-97b9-4442-ad57-41e18931afa0",
   "metadata": {},
   "source": [
    "**Is a collection of items that are unique and without sequence**"
   ]
  },
  {
   "cell_type": "markdown",
   "id": "9f310ea0-11db-4f33-b2c7-93ac702e2219",
   "metadata": {},
   "source": [
    "**• Sets are used to store multiple items in a single variable.\n",
    "• Set items are unordered, unchangeable, unindexed and do not allow duplicate values.\n",
    "• Set items are unchangeable, but can remove items and add new items.\n",
    "• Sets are written with curly brackets{ }.**"
   ]
  },
  {
   "cell_type": "code",
   "execution_count": 1,
   "id": "630a51db-acc4-4b4c-be6e-7019ed7cb2f9",
   "metadata": {},
   "outputs": [],
   "source": [
    "z = {1,1,1,6,6,6,9,9,9,10,10,10}"
   ]
  },
  {
   "cell_type": "code",
   "execution_count": 4,
   "id": "cf32dbbe-73f1-4e98-9784-5e591b533a4c",
   "metadata": {},
   "outputs": [
    {
     "name": "stdout",
     "output_type": "stream",
     "text": [
      "{1, 10, 6, 9}\n"
     ]
    }
   ],
   "source": [
    "print(z)\n",
    "\n",
    "#set does not allow duplicates"
   ]
  },
  {
   "cell_type": "code",
   "execution_count": 3,
   "id": "eacd54e6-e843-4665-a5b2-db216aec71e8",
   "metadata": {},
   "outputs": [
    {
     "data": {
      "text/plain": [
       "set"
      ]
     },
     "execution_count": 3,
     "metadata": {},
     "output_type": "execute_result"
    }
   ],
   "source": [
    "type(z)"
   ]
  },
  {
   "cell_type": "markdown",
   "id": "27278381-7203-429f-af7c-1976cc8160ed",
   "metadata": {},
   "source": [
    "**Because the set is unordered, we cannot retrieve some of the data/data elements using the slicing process**"
   ]
  },
  {
   "cell_type": "code",
   "execution_count": 5,
   "id": "60a859d9-bf70-4fe8-84cd-c0b810985145",
   "metadata": {},
   "outputs": [
    {
     "ename": "TypeError",
     "evalue": "'set' object is not subscriptable",
     "output_type": "error",
     "traceback": [
      "\u001b[1;31m---------------------------------------------------------------------------\u001b[0m",
      "\u001b[1;31mTypeError\u001b[0m                                 Traceback (most recent call last)",
      "Cell \u001b[1;32mIn[5], line 1\u001b[0m\n\u001b[1;32m----> 1\u001b[0m \u001b[38;5;28mprint\u001b[39m (z[\u001b[38;5;241m1\u001b[39m])\n",
      "\u001b[1;31mTypeError\u001b[0m: 'set' object is not subscriptable"
     ]
    }
   ],
   "source": [
    "print (z[1])\n",
    "\n",
    "#set items is unindexed"
   ]
  },
  {
   "cell_type": "markdown",
   "id": "0082e802-f4de-4abf-a0a8-c72d5e7d9afe",
   "metadata": {},
   "source": [
    "# **Union**"
   ]
  },
  {
   "cell_type": "markdown",
   "id": "e327731d-a827-4219-a0a7-af5191c98179",
   "metadata": {},
   "source": [
    "**Return a set containing the union of sets. set1.union{set2,set3,....}**"
   ]
  },
  {
   "cell_type": "code",
   "execution_count": 6,
   "id": "4b83b47f-44b3-4c6a-95c3-0780706b8441",
   "metadata": {},
   "outputs": [],
   "source": [
    "a = {4,5,6}"
   ]
  },
  {
   "cell_type": "code",
   "execution_count": 7,
   "id": "9bad0f0d-8ae5-4dfc-9a4c-c4a04857ede6",
   "metadata": {},
   "outputs": [
    {
     "name": "stdout",
     "output_type": "stream",
     "text": [
      "{4, 5, 6}\n"
     ]
    }
   ],
   "source": [
    "print(a)"
   ]
  },
  {
   "cell_type": "code",
   "execution_count": 8,
   "id": "8df79a30-6558-4103-9c40-f8a7a1dab38f",
   "metadata": {},
   "outputs": [],
   "source": [
    "b = {5,6,7,8,9,10}"
   ]
  },
  {
   "cell_type": "code",
   "execution_count": 9,
   "id": "ac0da84d-780e-4fee-bbb5-bc01140141fe",
   "metadata": {},
   "outputs": [
    {
     "name": "stdout",
     "output_type": "stream",
     "text": [
      "{5, 6, 7, 8, 9, 10}\n"
     ]
    }
   ],
   "source": [
    "print(b)"
   ]
  },
  {
   "cell_type": "code",
   "execution_count": 10,
   "id": "2812557a-00fe-4c00-b8cc-f097bc453c3d",
   "metadata": {},
   "outputs": [
    {
     "data": {
      "text/plain": [
       "{4, 5, 6, 7, 8, 9, 10}"
      ]
     },
     "execution_count": 10,
     "metadata": {},
     "output_type": "execute_result"
    }
   ],
   "source": [
    "a.union(b)"
   ]
  },
  {
   "cell_type": "markdown",
   "id": "2dc683d9-2322-448e-b3af-5112c1ef0961",
   "metadata": {},
   "source": [
    "# **Intersection**"
   ]
  },
  {
   "cell_type": "markdown",
   "id": "b0d54c98-f055-4421-994d-97efac6d8c62",
   "metadata": {},
   "source": [
    "**Returns a set, that is the intersection of two other sets. set1.intersection{set2,set3,....}**"
   ]
  },
  {
   "cell_type": "code",
   "execution_count": 11,
   "id": "adc35c2a-42de-4e0f-a24f-c1dae7fc06d2",
   "metadata": {},
   "outputs": [
    {
     "data": {
      "text/plain": [
       "{5, 6}"
      ]
     },
     "execution_count": 11,
     "metadata": {},
     "output_type": "execute_result"
    }
   ],
   "source": [
    "a.intersection(b)"
   ]
  },
  {
   "cell_type": "markdown",
   "id": "896206b1-909a-4e58-8ded-2c737e806dd9",
   "metadata": {},
   "source": [
    "# **Dictionary**"
   ]
  },
  {
   "cell_type": "markdown",
   "id": "4a93f3af-c86b-48c7-8eaf-c21b6deae2de",
   "metadata": {},
   "source": [
    "**A dictionary in Python is a collection of unordered key-value pairs. Dictionaries can be used to convey small to large data. To access the data we have to know the key. In the Python Dictionary it is defined with curly braces and additional definitions:**\n",
    "\n",
    "**- Each pair-key value element is separated by a comma (,)**\r",
    "**\n",
    "- Key and value are separated by a colon (:**)**\r\n",
    "- Keys and values ​​can be any type of variable / obje**ct"
   ]
  },
  {
   "cell_type": "code",
   "execution_count": 12,
   "id": "62b07f01-e880-4049-81d1-5f16fd0d0360",
   "metadata": {},
   "outputs": [],
   "source": [
    "a = {\"Pathway\" : \"Data Analyst\", \"Kelas\" : \"B\", \"Kelompok\" : 4}"
   ]
  },
  {
   "cell_type": "code",
   "execution_count": 13,
   "id": "d69fdb9f-c201-495a-9403-81017a254e98",
   "metadata": {},
   "outputs": [
    {
     "data": {
      "text/plain": [
       "dict"
      ]
     },
     "execution_count": 13,
     "metadata": {},
     "output_type": "execute_result"
    }
   ],
   "source": [
    "type(a)"
   ]
  },
  {
   "cell_type": "code",
   "execution_count": 14,
   "id": "358e26fb-05c6-41c8-8bb2-9b082fad43f0",
   "metadata": {},
   "outputs": [
    {
     "data": {
      "text/plain": [
       "4"
      ]
     },
     "execution_count": 14,
     "metadata": {},
     "output_type": "execute_result"
    }
   ],
   "source": [
    "a[\"Kelompok\"]"
   ]
  },
  {
   "cell_type": "code",
   "execution_count": 15,
   "id": "5e714b11-4fc5-47f0-b95a-420fb13d20a2",
   "metadata": {},
   "outputs": [
    {
     "data": {
      "text/plain": [
       "'Data Analyst'"
      ]
     },
     "execution_count": 15,
     "metadata": {},
     "output_type": "execute_result"
    }
   ],
   "source": [
    "a[\"Pathway\"]"
   ]
  },
  {
   "cell_type": "code",
   "execution_count": 16,
   "id": "e2b1dea3-7f8e-4a61-801f-654b20e79ced",
   "metadata": {},
   "outputs": [],
   "source": [
    "b = {\"pathway\" : {\"pathway_1\" : \"Data Analyst\",\n",
    "                  \"pathway_2\" : \"UI/UX Desainer\"}\n",
    "    }"
   ]
  },
  {
   "cell_type": "code",
   "execution_count": 17,
   "id": "cce657e4-a277-4088-a103-7e2bfde1fb62",
   "metadata": {},
   "outputs": [
    {
     "data": {
      "text/plain": [
       "'Data Analyst'"
      ]
     },
     "execution_count": 17,
     "metadata": {},
     "output_type": "execute_result"
    }
   ],
   "source": [
    "b['pathway']['pathway_1']"
   ]
  },
  {
   "cell_type": "code",
   "execution_count": 18,
   "id": "e809b8fd-8821-4dcc-b97f-b5357e25b53b",
   "metadata": {},
   "outputs": [
    {
     "data": {
      "text/plain": [
       "'UI/UX Desainer'"
      ]
     },
     "execution_count": 18,
     "metadata": {},
     "output_type": "execute_result"
    }
   ],
   "source": [
    "b['pathway']['pathway_2']"
   ]
  },
  {
   "cell_type": "code",
   "execution_count": null,
   "id": "b4b986fd-b7c4-4fd2-8a22-6698e2c91d7b",
   "metadata": {},
   "outputs": [],
   "source": []
  }
 ],
 "metadata": {
  "kernelspec": {
   "display_name": "Python 3 (ipykernel)",
   "language": "python",
   "name": "python3"
  },
  "language_info": {
   "codemirror_mode": {
    "name": "ipython",
    "version": 3
   },
   "file_extension": ".py",
   "mimetype": "text/x-python",
   "name": "python",
   "nbconvert_exporter": "python",
   "pygments_lexer": "ipython3",
   "version": "3.11.7"
  }
 },
 "nbformat": 4,
 "nbformat_minor": 5
}
