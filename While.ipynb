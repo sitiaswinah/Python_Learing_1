{
 "cells": [
  {
   "cell_type": "markdown",
   "id": "8ca89979-b4c2-4e69-a353-f9eb02c7efe5",
   "metadata": {},
   "source": [
    "# While"
   ]
  },
  {
   "cell_type": "code",
   "execution_count": 2,
   "id": "0c54cb41-0a07-4672-aa79-fa062a0b16ff",
   "metadata": {},
   "outputs": [
    {
     "name": "stdin",
     "output_type": "stream",
     "text": [
      " 2\n"
     ]
    },
    {
     "name": "stdout",
     "output_type": "stream",
     "text": [
      "bilangan 2\n"
     ]
    }
   ],
   "source": [
    "angka = int(input())\n",
    "\n",
    "while (angka < 3):\n",
    "    print(\"bilangan {}\".format(angka))\n",
    "    angka = angka + 1"
   ]
  },
  {
   "cell_type": "code",
   "execution_count": 3,
   "id": "ce783da0-a902-4159-ae07-2ea015ae8d29",
   "metadata": {},
   "outputs": [
    {
     "name": "stdin",
     "output_type": "stream",
     "text": [
      " 3\n"
     ]
    },
    {
     "name": "stdout",
     "output_type": "stream",
     "text": [
      "bilangan 3\n",
      "bilangan 5\n",
      "bilangan 7\n",
      "bilangan 9\n"
     ]
    }
   ],
   "source": [
    "angka = int(input())\n",
    "\n",
    "while (angka < 10):\n",
    "    print (\"bilangan {}\".format(angka))\n",
    "    angka = angka + 2"
   ]
  },
  {
   "cell_type": "markdown",
   "id": "044946cb-865c-4503-b21b-5439550b141f",
   "metadata": {},
   "source": [
    "# Else setelah While"
   ]
  },
  {
   "cell_type": "markdown",
   "id": "6818b35f-e050-415a-a5ef-27d3a4ce8511",
   "metadata": {},
   "source": [
    "**Pada statement while, blok statement else akan selalu dieksekusi saat kondisi pada while menjadi salah.**"
   ]
  },
  {
   "cell_type": "code",
   "execution_count": 5,
   "id": "b2446256-2180-4478-9f22-c8208894a7d9",
   "metadata": {},
   "outputs": [
    {
     "name": "stdin",
     "output_type": "stream",
     "text": [
      " 1\n"
     ]
    },
    {
     "name": "stdout",
     "output_type": "stream",
     "text": [
      "3\n",
      "5\n",
      "7\n",
      "9\n",
      "11\n",
      "loop selesai\n"
     ]
    }
   ],
   "source": [
    "angka = int(input())\n",
    "\n",
    "while (angka < 10):\n",
    "    angka = angka + 2\n",
    "    if angka == 6:\n",
    "        break\n",
    "    print(angka)\n",
    "else:\n",
    "    print(\"loop selesai\")"
   ]
  },
  {
   "cell_type": "markdown",
   "id": "9fba460e-264f-41df-81f1-6e34e16ce494",
   "metadata": {},
   "source": [
    "**List Comprehension (creating lists with inline loops and if)**\n",
    "\r\n",
    "**There are times when we need to create a new list from the previous list operatio. \n",
    "List comprehension is one way to generate new lists or iterables that already exist**"
   ]
  },
  {
   "cell_type": "code",
   "execution_count": 6,
   "id": "57094c72-5473-423c-b23a-9cf7a38a6769",
   "metadata": {},
   "outputs": [],
   "source": [
    "angka = [2,3,4]"
   ]
  },
  {
   "cell_type": "code",
   "execution_count": 7,
   "id": "71a99dae-0eee-46b2-b36d-2b39eed702a7",
   "metadata": {},
   "outputs": [],
   "source": [
    "kubik = []"
   ]
  },
  {
   "cell_type": "code",
   "execution_count": 8,
   "id": "7cf747ab-4126-4728-9df8-4c544a568130",
   "metadata": {},
   "outputs": [
    {
     "name": "stdout",
     "output_type": "stream",
     "text": [
      "[8, 27, 64]\n"
     ]
    }
   ],
   "source": [
    "for i in angka:\n",
    "    kubik.append(i**3)\n",
    "print(kubik)"
   ]
  },
  {
   "cell_type": "code",
   "execution_count": 9,
   "id": "a157983a-286e-46d2-95d3-94acc79e681e",
   "metadata": {},
   "outputs": [
    {
     "name": "stdout",
     "output_type": "stream",
     "text": [
      "[8, 27, 64]\n"
     ]
    }
   ],
   "source": [
    "print(kubik)"
   ]
  },
  {
   "cell_type": "markdown",
   "id": "4fcb1f17-975d-4113-b40f-40f9f3492942",
   "metadata": {},
   "source": [
    "**Writing in another way**\n",
    "\n",
    "new_list = [expression for_loop_one_or_more condition]"
   ]
  },
  {
   "cell_type": "code",
   "execution_count": 10,
   "id": "7f3bb658-b2d9-4964-a9b7-aa5b39ec1e5e",
   "metadata": {},
   "outputs": [],
   "source": [
    "angka = [2,3,4]"
   ]
  },
  {
   "cell_type": "code",
   "execution_count": 11,
   "id": "f219834b-5e15-4794-af26-91bd3b47b7bb",
   "metadata": {},
   "outputs": [
    {
     "ename": "SyntaxError",
     "evalue": "invalid syntax (101830461.py, line 1)",
     "output_type": "error",
     "traceback": [
      "\u001b[1;36m  Cell \u001b[1;32mIn[11], line 1\u001b[1;36m\u001b[0m\n\u001b[1;33m    kubik [i**3 for i in angka]\u001b[0m\n\u001b[1;37m                ^\u001b[0m\n\u001b[1;31mSyntaxError\u001b[0m\u001b[1;31m:\u001b[0m invalid syntax\n"
     ]
    }
   ],
   "source": [
    "kubik [i**3 for i in angka]"
   ]
  },
  {
   "cell_type": "code",
   "execution_count": 12,
   "id": "aa99faa7-e334-470b-8393-369092a74a4c",
   "metadata": {},
   "outputs": [
    {
     "name": "stdout",
     "output_type": "stream",
     "text": [
      "['c']\n"
     ]
    }
   ],
   "source": [
    "abc = ['a','b','c']\n",
    "cde = ['c','d','e']\n",
    "\n",
    "duplikat = []\n",
    "\n",
    "for i in abc:\n",
    "    for j in cde:\n",
    "        if i == j:\n",
    "            duplikat.append(i)\n",
    "\n",
    "print(duplikat)"
   ]
  },
  {
   "cell_type": "code",
   "execution_count": 13,
   "id": "5c749f62-773b-4e17-9f09-ff67c5ae561d",
   "metadata": {},
   "outputs": [
    {
     "name": "stdout",
     "output_type": "stream",
     "text": [
      "['DATA', 'ANALYST']\n"
     ]
    }
   ],
   "source": [
    "data = [\"Data\", \"Analyst\"]\n",
    "\n",
    "upper = [_.upper() for _ in data]\n",
    "\n",
    "print(upper)"
   ]
  },
  {
   "cell_type": "markdown",
   "id": "9617f4bf-175d-4201-bbdd-94d61a3e0fd0",
   "metadata": {},
   "source": [
    "- Garis bawah (underscrore) termasuk penamaan variabel yang valid\n",
    "- Secara umum \"_\" biasa disebut throwaway (variabel tidak penting)"
   ]
  },
  {
   "cell_type": "code",
   "execution_count": null,
   "id": "24a8ec2c-b897-41cd-92f5-bab309da1dc8",
   "metadata": {},
   "outputs": [],
   "source": []
  }
 ],
 "metadata": {
  "kernelspec": {
   "display_name": "Python 3 (ipykernel)",
   "language": "python",
   "name": "python3"
  },
  "language_info": {
   "codemirror_mode": {
    "name": "ipython",
    "version": 3
   },
   "file_extension": ".py",
   "mimetype": "text/x-python",
   "name": "python",
   "nbconvert_exporter": "python",
   "pygments_lexer": "ipython3",
   "version": "3.11.7"
  }
 },
 "nbformat": 4,
 "nbformat_minor": 5
}
