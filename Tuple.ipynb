{
 "cells": [
  {
   "cell_type": "markdown",
   "id": "011e61e3-9e29-4b2b-97fb-57261b74de93",
   "metadata": {},
   "source": [
    "# **Tuple**s."
   ]
  },
  {
   "cell_type": "markdown",
   "id": "be6332a9-b2bc-49d8-a949-462c024408b6",
   "metadata": {},
   "source": [
    "**Tuples are used to store multiple items in a single variable. A tuple is a collection which is ordered and unchangeable.\n",
    "Tuples are written with round brackets.**"
   ]
  },
  {
   "cell_type": "code",
   "execution_count": 6,
   "id": "e9ab1522-c3ac-4dab-830e-ae49dd7cc25c",
   "metadata": {},
   "outputs": [],
   "source": [
    "x = (9, \"Analisis\", 2.3)"
   ]
  },
  {
   "cell_type": "code",
   "execution_count": 7,
   "id": "4ed54d44-97b7-41b7-81ea-7bbbcc4a3e7a",
   "metadata": {},
   "outputs": [
    {
     "name": "stdout",
     "output_type": "stream",
     "text": [
      "(9, 'Analisis', 2.3)\n"
     ]
    }
   ],
   "source": [
    "print(x)"
   ]
  },
  {
   "cell_type": "code",
   "execution_count": 8,
   "id": "1d117e21-7d13-43b6-9414-a6fe7b26888e",
   "metadata": {},
   "outputs": [
    {
     "name": "stdout",
     "output_type": "stream",
     "text": [
      "9\n"
     ]
    }
   ],
   "source": [
    "print(x[0])"
   ]
  },
  {
   "cell_type": "code",
   "execution_count": 9,
   "id": "b25d421d-fbbc-4e8d-bbc0-1292a5c8bc40",
   "metadata": {},
   "outputs": [
    {
     "name": "stdout",
     "output_type": "stream",
     "text": [
      "(9, 'Analisis')\n"
     ]
    }
   ],
   "source": [
    "print(x[0:2])"
   ]
  },
  {
   "cell_type": "markdown",
   "id": "766bbc5c-2c57-4f86-9939-f4cdbe32fb6c",
   "metadata": {},
   "source": [
    "**Tuple items are ordered, unchangeable, and allow duplicate values.\n",
    "\r\n",
    "Tuple items are indexed, the first item has index [0], the second item has index [1] et**c."
   ]
  },
  {
   "cell_type": "markdown",
   "id": "c3531d25-d4c4-4282-af44-f99661060f8b",
   "metadata": {},
   "source": [
    "**Like lists, we can do slicing, but we cannot make changes to tuples**"
   ]
  },
  {
   "cell_type": "code",
   "execution_count": 4,
   "id": "a6146d98-f1f4-4d35-a864-ac44e6cd84f6",
   "metadata": {},
   "outputs": [
    {
     "ename": "SyntaxError",
     "evalue": "expression cannot contain assignment, perhaps you meant \"==\"? (390252574.py, line 1)",
     "output_type": "error",
     "traceback": [
      "\u001b[1;36m  Cell \u001b[1;32mIn[4], line 1\u001b[1;36m\u001b[0m\n\u001b[1;33m    print(a[0]=10)\u001b[0m\n\u001b[1;37m          ^\u001b[0m\n\u001b[1;31mSyntaxError\u001b[0m\u001b[1;31m:\u001b[0m expression cannot contain assignment, perhaps you meant \"==\"?\n"
     ]
    }
   ],
   "source": [
    "print(a[0]=10)"
   ]
  },
  {
   "cell_type": "code",
   "execution_count": 5,
   "id": "955029dd-16ff-4bbb-91f8-32c94e36eb3d",
   "metadata": {},
   "outputs": [
    {
     "name": "stdout",
     "output_type": "stream",
     "text": [
      "False\n"
     ]
    }
   ],
   "source": [
    "print(a[0]==10)"
   ]
  },
  {
   "cell_type": "code",
   "execution_count": null,
   "id": "26d19979-6315-4a1e-81cc-ed7b8825dc91",
   "metadata": {},
   "outputs": [],
   "source": []
  }
 ],
 "metadata": {
  "kernelspec": {
   "display_name": "Python 3 (ipykernel)",
   "language": "python",
   "name": "python3"
  },
  "language_info": {
   "codemirror_mode": {
    "name": "ipython",
    "version": 3
   },
   "file_extension": ".py",
   "mimetype": "text/x-python",
   "name": "python",
   "nbconvert_exporter": "python",
   "pygments_lexer": "ipython3",
   "version": "3.11.7"
  }
 },
 "nbformat": 4,
 "nbformat_minor": 5
}
