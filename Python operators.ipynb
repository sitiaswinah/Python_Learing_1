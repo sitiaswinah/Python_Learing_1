{
 "cells": [
  {
   "cell_type": "markdown",
   "id": "04a95d0d-0f81-4490-a27c-9e15486f2e41",
   "metadata": {},
   "source": [
    "# **Addition**"
   ]
  },
  {
   "cell_type": "code",
   "execution_count": 1,
   "id": "10ca314b-ec8d-4e57-816d-d68777291477",
   "metadata": {},
   "outputs": [
    {
     "data": {
      "text/plain": [
       "41000"
      ]
     },
     "execution_count": 1,
     "metadata": {},
     "output_type": "execute_result"
    }
   ],
   "source": [
    "15000+26000"
   ]
  },
  {
   "cell_type": "markdown",
   "id": "83c22392-866b-47a7-8adf-b4eb4a01fa2c",
   "metadata": {},
   "source": [
    "**applies to the str data type**"
   ]
  },
  {
   "cell_type": "code",
   "execution_count": 2,
   "id": "9c30767c-7f55-490f-9ca5-5553b4d54c09",
   "metadata": {},
   "outputs": [
    {
     "data": {
      "text/plain": [
       "'DataAnalyst'"
      ]
     },
     "execution_count": 2,
     "metadata": {},
     "output_type": "execute_result"
    }
   ],
   "source": [
    "\"Data\" + \"Analyst\""
   ]
  },
  {
   "cell_type": "markdown",
   "id": "211749fd-afa6-4adb-bea8-cf88c26f74c5",
   "metadata": {},
   "source": [
    "# **Subtraction**"
   ]
  },
  {
   "cell_type": "code",
   "execution_count": 3,
   "id": "d4e1b259-bea7-461d-b86e-af7e043d2848",
   "metadata": {},
   "outputs": [
    {
     "data": {
      "text/plain": [
       "42518771"
      ]
     },
     "execution_count": 3,
     "metadata": {},
     "output_type": "execute_result"
    }
   ],
   "source": [
    "42535668-16897"
   ]
  },
  {
   "cell_type": "markdown",
   "id": "711e2b0c-f6ca-4a02-9a87-3d32226dd662",
   "metadata": {},
   "source": [
    "**does not apply to strings, will produce an unsupported operand error**"
   ]
  },
  {
   "cell_type": "code",
   "execution_count": 4,
   "id": "f9f7d334-8feb-4927-ab6a-5db03ee5eb06",
   "metadata": {},
   "outputs": [
    {
     "ename": "TypeError",
     "evalue": "unsupported operand type(s) for -: 'str' and 'str'",
     "output_type": "error",
     "traceback": [
      "\u001b[1;31m---------------------------------------------------------------------------\u001b[0m",
      "\u001b[1;31mTypeError\u001b[0m                                 Traceback (most recent call last)",
      "Cell \u001b[1;32mIn[4], line 2\u001b[0m\n\u001b[0;32m      1\u001b[0m \u001b[38;5;66;03m#contoh\u001b[39;00m\n\u001b[1;32m----> 2\u001b[0m \u001b[38;5;124m'\u001b[39m\u001b[38;5;124mda\u001b[39m\u001b[38;5;124m'\u001b[39m \u001b[38;5;241m-\u001b[39m \u001b[38;5;124m'\u001b[39m\u001b[38;5;124mta\u001b[39m\u001b[38;5;124m'\u001b[39m\n",
      "\u001b[1;31mTypeError\u001b[0m: unsupported operand type(s) for -: 'str' and 'str'"
     ]
    }
   ],
   "source": [
    "#contoh\n",
    "'da' - 'ta'"
   ]
  },
  {
   "cell_type": "markdown",
   "id": "1c49da9d-ab0a-4b17-9aba-de1c4296089b",
   "metadata": {},
   "source": [
    "# **Multiplication**"
   ]
  },
  {
   "cell_type": "code",
   "execution_count": 5,
   "id": "661cd5c0-6293-48fd-a509-f5067f799849",
   "metadata": {},
   "outputs": [
    {
     "data": {
      "text/plain": [
       "765000"
      ]
     },
     "execution_count": 5,
     "metadata": {},
     "output_type": "execute_result"
    }
   ],
   "source": [
    "153000*5"
   ]
  },
  {
   "cell_type": "markdown",
   "id": "9a31549a-77b5-405f-817b-e5cd16d82320",
   "metadata": {},
   "source": [
    "**returns a string repeated a specified number of times**"
   ]
  },
  {
   "cell_type": "code",
   "execution_count": 6,
   "id": "b8af4419-4b6f-44cc-97d8-67d29cdd1b88",
   "metadata": {},
   "outputs": [
    {
     "data": {
      "text/plain": [
       "'hadeuhhhadeuhhhadeuhh'"
      ]
     },
     "execution_count": 6,
     "metadata": {},
     "output_type": "execute_result"
    }
   ],
   "source": [
    "\"hadeuhh\"*3"
   ]
  },
  {
   "cell_type": "markdown",
   "id": "61a9b2ee-fae4-4baa-ba18-ccbf56faccbf",
   "metadata": {},
   "source": [
    "# **Root**"
   ]
  },
  {
   "cell_type": "code",
   "execution_count": 7,
   "id": "0683f1c8-77f1-41d1-8f4d-b2976aa820b4",
   "metadata": {},
   "outputs": [
    {
     "data": {
      "text/plain": [
       "8100"
      ]
     },
     "execution_count": 7,
     "metadata": {},
     "output_type": "execute_result"
    }
   ],
   "source": [
    "90**2"
   ]
  },
  {
   "cell_type": "code",
   "execution_count": 8,
   "id": "2c374c16-5858-4f07-8b10-6e2309ca5b8b",
   "metadata": {},
   "outputs": [
    {
     "data": {
      "text/plain": [
       "9.486832980505138"
      ]
     },
     "execution_count": 8,
     "metadata": {},
     "output_type": "execute_result"
    }
   ],
   "source": [
    "#for second roots, use the power of 0.5\n",
    "\n",
    "90**0.5"
   ]
  },
  {
   "cell_type": "markdown",
   "id": "48b2e995-8ab7-430c-8e1d-61b25f461f12",
   "metadata": {},
   "source": [
    "# **Distribution**"
   ]
  },
  {
   "cell_type": "code",
   "execution_count": 9,
   "id": "94ef5fd5-b564-40b8-9693-bb9638be4117",
   "metadata": {},
   "outputs": [
    {
     "data": {
      "text/plain": [
       "7.5"
      ]
     },
     "execution_count": 9,
     "metadata": {},
     "output_type": "execute_result"
    }
   ],
   "source": [
    "15/2"
   ]
  },
  {
   "cell_type": "code",
   "execution_count": 10,
   "id": "81db1f06-e6d1-4127-8b7b-516426dce8a2",
   "metadata": {},
   "outputs": [
    {
     "data": {
      "text/plain": [
       "4.714285714285714"
      ]
     },
     "execution_count": 10,
     "metadata": {},
     "output_type": "execute_result"
    }
   ],
   "source": [
    "33/7"
   ]
  },
  {
   "cell_type": "markdown",
   "id": "24dfd81d-9696-4674-ae47-8d7192fe031f",
   "metadata": {},
   "source": [
    "# **Division**"
   ]
  },
  {
   "cell_type": "markdown",
   "id": "0300f1d6-b33a-43f5-8c25-da05ef915277",
   "metadata": {},
   "source": [
    "**(divisible or division)**\n",
    "**- Returns the result of dividing the first operand by**\n",
    "**- unless one of the operands is float, it will**"
   ]
  },
  {
   "cell_type": "code",
   "execution_count": 11,
   "id": "7252477f-ac8f-43b1-9ca9-82fba7bde428",
   "metadata": {},
   "outputs": [
    {
     "data": {
      "text/plain": [
       "3"
      ]
     },
     "execution_count": 11,
     "metadata": {},
     "output_type": "execute_result"
    }
   ],
   "source": [
    "9//3"
   ]
  },
  {
   "cell_type": "code",
   "execution_count": 12,
   "id": "c2923ca0-5f72-4c30-91c1-2c33d97a7cbb",
   "metadata": {},
   "outputs": [
    {
     "data": {
      "text/plain": [
       "2.0"
      ]
     },
     "execution_count": 12,
     "metadata": {},
     "output_type": "execute_result"
    }
   ],
   "source": [
    "7//2.5"
   ]
  },
  {
   "cell_type": "markdown",
   "id": "3a4f2133-7275-4776-9759-12aeee795663",
   "metadata": {},
   "source": [
    "# **Modulo**"
   ]
  },
  {
   "cell_type": "code",
   "execution_count": 13,
   "id": "424e0219-3362-43d2-a2da-fa5797fb13a9",
   "metadata": {},
   "outputs": [
    {
     "data": {
      "text/plain": [
       "2"
      ]
     },
     "execution_count": 13,
     "metadata": {},
     "output_type": "execute_result"
    }
   ],
   "source": [
    "11%3"
   ]
  }
 ],
 "metadata": {
  "kernelspec": {
   "display_name": "Python 3 (ipykernel)",
   "language": "python",
   "name": "python3"
  },
  "language_info": {
   "codemirror_mode": {
    "name": "ipython",
    "version": 3
   },
   "file_extension": ".py",
   "mimetype": "text/x-python",
   "name": "python",
   "nbconvert_exporter": "python",
   "pygments_lexer": "ipython3",
   "version": "3.11.7"
  }
 },
 "nbformat": 4,
 "nbformat_minor": 5
}
