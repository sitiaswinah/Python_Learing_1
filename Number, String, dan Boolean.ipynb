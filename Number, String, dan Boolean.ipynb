{
 "cells": [
  {
   "cell_type": "code",
   "execution_count": 1,
   "id": "31632956-46de-428d-adfb-d069a1ff42a8",
   "metadata": {},
   "outputs": [],
   "source": [
    "a = 10"
   ]
  },
  {
   "cell_type": "code",
   "execution_count": 2,
   "id": "b7baa089-116b-4345-ad51-e8e52fe5777e",
   "metadata": {},
   "outputs": [
    {
     "data": {
      "text/plain": [
       "int"
      ]
     },
     "execution_count": 2,
     "metadata": {},
     "output_type": "execute_result"
    }
   ],
   "source": [
    "type(a)"
   ]
  },
  {
   "cell_type": "code",
   "execution_count": 3,
   "id": "2c08abe8-27d4-4f3c-b950-170c6f19be8a",
   "metadata": {},
   "outputs": [],
   "source": [
    "b = 7.1"
   ]
  },
  {
   "cell_type": "code",
   "execution_count": 6,
   "id": "b126c518-0a0a-4139-8e79-6003b7f6eec6",
   "metadata": {},
   "outputs": [
    {
     "data": {
      "text/plain": [
       "float"
      ]
     },
     "execution_count": 6,
     "metadata": {},
     "output_type": "execute_result"
    }
   ],
   "source": [
    "type(b)"
   ]
  },
  {
   "cell_type": "code",
   "execution_count": 9,
   "id": "985a7d44-7cf8-4cb8-bc56-479cd4054844",
   "metadata": {},
   "outputs": [],
   "source": [
    "a = 1"
   ]
  },
  {
   "cell_type": "code",
   "execution_count": 11,
   "id": "a31459a8-8902-492e-b2ef-67d8bb2756fb",
   "metadata": {},
   "outputs": [
    {
     "data": {
      "text/plain": [
       "int"
      ]
     },
     "execution_count": 11,
     "metadata": {},
     "output_type": "execute_result"
    }
   ],
   "source": [
    "type(a)"
   ]
  },
  {
   "cell_type": "code",
   "execution_count": 14,
   "id": "07edacff-91ef-4924-9188-6e98ada069b3",
   "metadata": {},
   "outputs": [],
   "source": [
    "b = 1.0"
   ]
  },
  {
   "cell_type": "code",
   "execution_count": 15,
   "id": "b15bc555-4195-4c24-ba64-c34c11326e0b",
   "metadata": {},
   "outputs": [
    {
     "data": {
      "text/plain": [
       "float"
      ]
     },
     "execution_count": 15,
     "metadata": {},
     "output_type": "execute_result"
    }
   ],
   "source": [
    "type(b)"
   ]
  },
  {
   "cell_type": "code",
   "execution_count": 20,
   "id": "5e8710d6-9a34-4e18-a6d6-f1a0dfea5f1f",
   "metadata": {},
   "outputs": [],
   "source": [
    "c = 1+3j"
   ]
  },
  {
   "cell_type": "code",
   "execution_count": 19,
   "id": "e8305a96-0276-45a5-bfbf-7828727992ab",
   "metadata": {},
   "outputs": [
    {
     "data": {
      "text/plain": [
       "complex"
      ]
     },
     "execution_count": 19,
     "metadata": {},
     "output_type": "execute_result"
    }
   ],
   "source": [
    "type(c)"
   ]
  },
  {
   "cell_type": "code",
   "execution_count": null,
   "id": "badc6ba0-8be5-44fd-a2af-f9f0ead25cee",
   "metadata": {},
   "outputs": [],
   "source": [
    "#string"
   ]
  },
  {
   "cell_type": "code",
   "execution_count": 30,
   "id": "e0a1796c-b3de-4d6b-9c39-f6ebbda36650",
   "metadata": {},
   "outputs": [],
   "source": [
    "a = \"Hello world\""
   ]
  },
  {
   "cell_type": "code",
   "execution_count": 31,
   "id": "f8b64f11-816f-4802-9de1-65fd026b95df",
   "metadata": {},
   "outputs": [
    {
     "name": "stdout",
     "output_type": "stream",
     "text": [
      "Hello world\n"
     ]
    }
   ],
   "source": [
    "print(a)"
   ]
  },
  {
   "cell_type": "code",
   "execution_count": 23,
   "id": "5ef7d988-d7ee-43f1-b379-93edc8ba1270",
   "metadata": {},
   "outputs": [
    {
     "data": {
      "text/plain": [
       "str"
      ]
     },
     "execution_count": 23,
     "metadata": {},
     "output_type": "execute_result"
    }
   ],
   "source": [
    "type(a)"
   ]
  },
  {
   "cell_type": "code",
   "execution_count": 24,
   "id": "aca21cc5-102e-4bfe-9718-c368a6c03064",
   "metadata": {},
   "outputs": [],
   "source": [
    "a = ' Hello '"
   ]
  },
  {
   "cell_type": "code",
   "execution_count": 25,
   "id": "582b5088-f28f-410f-8076-37e53f432d00",
   "metadata": {},
   "outputs": [
    {
     "name": "stdout",
     "output_type": "stream",
     "text": [
      " Hello \n"
     ]
    }
   ],
   "source": [
    "print(a)"
   ]
  },
  {
   "cell_type": "code",
   "execution_count": 32,
   "id": "08571630-2f5d-463c-bba7-5a8c1c36522a",
   "metadata": {},
   "outputs": [],
   "source": [
    "a = \"\"\"Bootcamp Data Analyst.\n",
    "Kampus Merdeka x MyEduSolve\n",
    "Kelas B.\"\"\""
   ]
  },
  {
   "cell_type": "code",
   "execution_count": 33,
   "id": "0905b9ac-cefa-4a89-9359-cbf22fe8a7a7",
   "metadata": {},
   "outputs": [
    {
     "name": "stdout",
     "output_type": "stream",
     "text": [
      "Bootcamp Data Analyst.\n",
      "Kampus Merdeka x MyEduSolve\n",
      "Kelas B.\n"
     ]
    }
   ],
   "source": [
    "print(a)"
   ]
  },
  {
   "cell_type": "code",
   "execution_count": 36,
   "id": "bc13fcbb-92b4-440a-a0b1-bafe222f14b1",
   "metadata": {},
   "outputs": [],
   "source": [
    "b = \"Bootcamp Data Analyst. \\nKampus Merdeka x MyEduSolve \\nKelas B.\""
   ]
  },
  {
   "cell_type": "code",
   "execution_count": 37,
   "id": "7cac03b0-b595-4f6c-9b11-ec3bd27fe13a",
   "metadata": {},
   "outputs": [
    {
     "name": "stdout",
     "output_type": "stream",
     "text": [
      "Bootcamp Data Analyst. \n",
      "Kampus Merdeka x MyEduSolve \n",
      "Kelas B.\n"
     ]
    }
   ],
   "source": [
    "print(b)"
   ]
  },
  {
   "cell_type": "code",
   "execution_count": 38,
   "id": "0a2652b4-63a8-4aa9-ad98-70e56e878abc",
   "metadata": {},
   "outputs": [
    {
     "data": {
      "text/plain": [
       "\"jum'at\""
      ]
     },
     "execution_count": 38,
     "metadata": {},
     "output_type": "execute_result"
    }
   ],
   "source": [
    "\"jum'at\""
   ]
  },
  {
   "cell_type": "code",
   "execution_count": 39,
   "id": "89bfbedc-ad7a-495f-9018-afc48918d8e7",
   "metadata": {},
   "outputs": [
    {
     "ename": "SyntaxError",
     "evalue": "unterminated string literal (detected at line 1) (3735155389.py, line 1)",
     "output_type": "error",
     "traceback": [
      "\u001b[1;36m  Cell \u001b[1;32mIn[39], line 1\u001b[1;36m\u001b[0m\n\u001b[1;33m    'jum'at'\u001b[0m\n\u001b[1;37m           ^\u001b[0m\n\u001b[1;31mSyntaxError\u001b[0m\u001b[1;31m:\u001b[0m unterminated string literal (detected at line 1)\n"
     ]
    }
   ],
   "source": [
    "'jum'at'\n",
    "#ketika ada kata yang menggunakan tanda petik saru maka untuk mengeksekusinya harus menggunakan tanda petik 2"
   ]
  },
  {
   "cell_type": "code",
   "execution_count": 40,
   "id": "ef745199-c18f-44e3-bfc3-9b59dc470ee4",
   "metadata": {},
   "outputs": [
    {
     "data": {
      "text/plain": [
       "\"i'am sorry\""
      ]
     },
     "execution_count": 40,
     "metadata": {},
     "output_type": "execute_result"
    }
   ],
   "source": [
    "\"i'am sorry\""
   ]
  },
  {
   "cell_type": "code",
   "execution_count": null,
   "id": "028f6919-c347-4337-8bfd-f26cefd47e3d",
   "metadata": {},
   "outputs": [],
   "source": [
    "# 3 Boolean Tipe Data bool atau Boolean merupakan turunan dri bilangan blat (integer atau int) yang hanya punya dua yaitu True & False"
   ]
  },
  {
   "cell_type": "code",
   "execution_count": 41,
   "id": "185ad98b-50a8-429a-81ed-8188695baed5",
   "metadata": {},
   "outputs": [
    {
     "data": {
      "text/plain": [
       "False"
      ]
     },
     "execution_count": 41,
     "metadata": {},
     "output_type": "execute_result"
    }
   ],
   "source": [
    "2>5"
   ]
  },
  {
   "cell_type": "code",
   "execution_count": 42,
   "id": "a2bf1214-d2e5-44b1-a760-d01594e2c03a",
   "metadata": {},
   "outputs": [
    {
     "data": {
      "text/plain": [
       "False"
      ]
     },
     "execution_count": 42,
     "metadata": {},
     "output_type": "execute_result"
    }
   ],
   "source": [
    "2==5"
   ]
  },
  {
   "cell_type": "code",
   "execution_count": 43,
   "id": "615a6fd3-466e-4ece-9832-ee87d602f431",
   "metadata": {},
   "outputs": [
    {
     "data": {
      "text/plain": [
       "True"
      ]
     },
     "execution_count": 43,
     "metadata": {},
     "output_type": "execute_result"
    }
   ],
   "source": [
    "3<=3"
   ]
  },
  {
   "cell_type": "code",
   "execution_count": 44,
   "id": "245333b8-802d-4fdd-8fc9-1169c47fa491",
   "metadata": {},
   "outputs": [
    {
     "data": {
      "text/plain": [
       "True"
      ]
     },
     "execution_count": 44,
     "metadata": {},
     "output_type": "execute_result"
    }
   ],
   "source": [
    "4!=9"
   ]
  },
  {
   "cell_type": "code",
   "execution_count": null,
   "id": "18a96383-db08-4499-9d51-cb3569ba4a3e",
   "metadata": {},
   "outputs": [],
   "source": [
    "#Type Data List"
   ]
  },
  {
   "cell_type": "code",
   "execution_count": 45,
   "id": "41b55615-aa74-4221-a686-7247fca822f2",
   "metadata": {},
   "outputs": [],
   "source": [
    "a = [2, 3.6, \"Sembilan\"]"
   ]
  },
  {
   "cell_type": "code",
   "execution_count": 46,
   "id": "3d7ad595-1842-40b7-9ddf-698da52e0b8f",
   "metadata": {},
   "outputs": [],
   "source": [
    "b = [5,8,1]"
   ]
  },
  {
   "cell_type": "code",
   "execution_count": 47,
   "id": "1c343dc4-e827-4ea5-8b2f-bd05fda929fd",
   "metadata": {},
   "outputs": [
    {
     "name": "stdout",
     "output_type": "stream",
     "text": [
      "[5, 8, 1]\n"
     ]
    }
   ],
   "source": [
    "print(b)"
   ]
  },
  {
   "cell_type": "code",
   "execution_count": 48,
   "id": "54b24d56-cb56-403e-ba1d-85879099efbe",
   "metadata": {},
   "outputs": [
    {
     "name": "stdout",
     "output_type": "stream",
     "text": [
      "[2, 3.6, 'Sembilan']\n"
     ]
    }
   ],
   "source": [
    "print(a)"
   ]
  },
  {
   "cell_type": "code",
   "execution_count": 49,
   "id": "0a083153-8b82-4ce7-979d-e31b73d99e31",
   "metadata": {},
   "outputs": [
    {
     "data": {
      "text/plain": [
       "list"
      ]
     },
     "execution_count": 49,
     "metadata": {},
     "output_type": "execute_result"
    }
   ],
   "source": [
    "type(a)"
   ]
  },
  {
   "cell_type": "code",
   "execution_count": null,
   "id": "5923c9d6-04ef-482c-9a3d-593e857070b3",
   "metadata": {},
   "outputs": [],
   "source": [
    "#Setiap data didalamnya dapat diakses dengan indeks yang dimulai dari 0"
   ]
  },
  {
   "cell_type": "code",
   "execution_count": 50,
   "id": "a689e45b-bbba-40b0-a285-c0d7a7352ec7",
   "metadata": {},
   "outputs": [
    {
     "data": {
      "text/plain": [
       "2"
      ]
     },
     "execution_count": 50,
     "metadata": {},
     "output_type": "execute_result"
    }
   ],
   "source": [
    "a[0]"
   ]
  },
  {
   "cell_type": "code",
   "execution_count": 51,
   "id": "3d2baff5-b792-4549-a600-e99644725802",
   "metadata": {},
   "outputs": [
    {
     "data": {
      "text/plain": [
       "3.6"
      ]
     },
     "execution_count": 51,
     "metadata": {},
     "output_type": "execute_result"
    }
   ],
   "source": [
    "a[1]"
   ]
  },
  {
   "cell_type": "code",
   "execution_count": 52,
   "id": "1e777f0e-72b3-41d1-bf72-182f1f6c265f",
   "metadata": {},
   "outputs": [
    {
     "data": {
      "text/plain": [
       "int"
      ]
     },
     "execution_count": 52,
     "metadata": {},
     "output_type": "execute_result"
    }
   ],
   "source": [
    "type(a[0])"
   ]
  },
  {
   "cell_type": "code",
   "execution_count": 53,
   "id": "12aa3d9a-c7ec-4bc2-bcf2-55c3dd392193",
   "metadata": {},
   "outputs": [
    {
     "data": {
      "text/plain": [
       "str"
      ]
     },
     "execution_count": 53,
     "metadata": {},
     "output_type": "execute_result"
    }
   ],
   "source": [
    "type(a[2])"
   ]
  },
  {
   "cell_type": "code",
   "execution_count": 54,
   "id": "3d8b811a-0524-472d-8548-efafcabb429f",
   "metadata": {},
   "outputs": [
    {
     "data": {
      "text/plain": [
       "float"
      ]
     },
     "execution_count": 54,
     "metadata": {},
     "output_type": "execute_result"
    }
   ],
   "source": [
    "type(a[1])"
   ]
  },
  {
   "cell_type": "code",
   "execution_count": null,
   "id": "e44654ba-4f94-47c1-8ec7-cc40c898f320",
   "metadata": {},
   "outputs": [],
   "source": []
  }
 ],
 "metadata": {
  "kernelspec": {
   "display_name": "Python 3 (ipykernel)",
   "language": "python",
   "name": "python3"
  },
  "language_info": {
   "codemirror_mode": {
    "name": "ipython",
    "version": 3
   },
   "file_extension": ".py",
   "mimetype": "text/x-python",
   "name": "python",
   "nbconvert_exporter": "python",
   "pygments_lexer": "ipython3",
   "version": "3.11.7"
  }
 },
 "nbformat": 4,
 "nbformat_minor": 5
}
