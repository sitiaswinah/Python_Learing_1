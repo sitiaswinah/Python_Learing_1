{
 "cells": [
  {
   "cell_type": "markdown",
   "id": "fb5c86e1-2989-4885-a0cd-bb512a207d29",
   "metadata": {},
   "source": [
    "# For"
   ]
  },
  {
   "cell_type": "markdown",
   "id": "29659755-4117-4d3e-9448-d91bf51cccfd",
   "metadata": {},
   "source": [
    "- Adalah fungsi yang dapat melakukan perulangan pada setiap jenis variabel berupa kumpulan atau urutan\n",
    "- Variabel yang dimaksud bisa berupa list atapun range\n",
    "- Jika sebuah list atau urutan berisi expression maka ia akna dievaluasi terlebih dahulu\n",
    "- Kemudian item pertama pada urutan / list akan dessign sebagai variabel iterating_var\n",
    "- Setelahnya blok statement akan dieksekusi. berlanjut ke item berikutnya. brulang, hingga seluruh urutan habis "
   ]
  },
  {
   "cell_type": "code",
   "execution_count": 1,
   "id": "c9a791f6-040b-4a36-875e-f65a7aebdfab",
   "metadata": {},
   "outputs": [
    {
     "name": "stdout",
     "output_type": "stream",
     "text": [
      "hurup d\n",
      "hurup a\n",
      "hurup t\n",
      "hurup a\n"
     ]
    }
   ],
   "source": [
    "for i in 'data':\n",
    "    print(\"hurup {}\".format(i))"
   ]
  },
  {
   "cell_type": "code",
   "execution_count": 2,
   "id": "3aa8bef9-e6eb-4023-a2ca-9b441387de85",
   "metadata": {},
   "outputs": [
    {
     "name": "stdout",
     "output_type": "stream",
     "text": [
      "Warna merah\n",
      "Warna kuning\n",
      "Warna hijau\n"
     ]
    }
   ],
   "source": [
    "color = ['merah', 'kuning', 'hijau']\n",
    "\n",
    "for i in color:\n",
    "    print(\"Warna {}\".format(i))"
   ]
  },
  {
   "cell_type": "code",
   "execution_count": 3,
   "id": "913b8a4d-a904-4a64-ab9c-703a2e66cf31",
   "metadata": {},
   "outputs": [
    {
     "name": "stdout",
     "output_type": "stream",
     "text": [
      "0\n",
      "1\n",
      "2\n"
     ]
    }
   ],
   "source": [
    "for i in range(3):\n",
    "    print(i)"
   ]
  },
  {
   "cell_type": "code",
   "execution_count": null,
   "id": "2df2a76a-8dff-4383-b0be-84e569bba979",
   "metadata": {},
   "outputs": [],
   "source": []
  }
 ],
 "metadata": {
  "kernelspec": {
   "display_name": "Python 3 (ipykernel)",
   "language": "python",
   "name": "python3"
  },
  "language_info": {
   "codemirror_mode": {
    "name": "ipython",
    "version": 3
   },
   "file_extension": ".py",
   "mimetype": "text/x-python",
   "name": "python",
   "nbconvert_exporter": "python",
   "pygments_lexer": "ipython3",
   "version": "3.11.7"
  }
 },
 "nbformat": 4,
 "nbformat_minor": 5
}
