{
 "cells": [
  {
   "cell_type": "markdown",
   "id": "fb5c86e1-2989-4885-a0cd-bb512a207d29",
   "metadata": {},
   "source": [
    "# For"
   ]
  },
  {
   "cell_type": "markdown",
   "id": "29659755-4117-4d3e-9448-d91bf51cccfd",
   "metadata": {},
   "source": [
    "- Adalah fungsi yang dapat melakukan perulangan pada setiap jenis variabel berupa kumpulan atau urutan\n",
    "- Variabel yang dimaksud bisa berupa list atapun range\n",
    "- Jika sebuah list atau urutan berisi expression maka ia akna dievaluasi terlebih dahulu\n",
    "- Kemudian item pertama pada urutan / list akan dessign sebagai variabel iterating_var\n",
    "- Setelahnya blok statement akan dieksekusi. berlanjut ke item berikutnya. brulang, hingga seluruh urutan habis "
   ]
  },
  {
   "cell_type": "code",
   "execution_count": 1,
   "id": "c9a791f6-040b-4a36-875e-f65a7aebdfab",
   "metadata": {},
   "outputs": [
    {
     "name": "stdout",
     "output_type": "stream",
     "text": [
      "hurup d\n",
      "hurup a\n",
      "hurup t\n",
      "hurup a\n"
     ]
    }
   ],
   "source": [
    "for i in 'data':\n",
    "    print(\"hurup {}\".format(i))"
   ]
  },
  {
   "cell_type": "code",
   "execution_count": 2,
   "id": "3aa8bef9-e6eb-4023-a2ca-9b441387de85",
   "metadata": {},
   "outputs": [
    {
     "name": "stdout",
     "output_type": "stream",
     "text": [
      "Warna merah\n",
      "Warna kuning\n",
      "Warna hijau\n"
     ]
    }
   ],
   "source": [
    "color = ['merah', 'kuning', 'hijau']\n",
    "\n",
    "for i in color:\n",
    "    print(\"Warna {}\".format(i))"
   ]
  },
  {
   "cell_type": "code",
   "execution_count": 3,
   "id": "913b8a4d-a904-4a64-ab9c-703a2e66cf31",
   "metadata": {},
   "outputs": [
    {
     "name": "stdout",
     "output_type": "stream",
     "text": [
      "0\n",
      "1\n",
      "2\n"
     ]
    }
   ],
   "source": [
    "for i in range(3):\n",
    "    print(i)"
   ]
  },
  {
   "cell_type": "markdown",
   "id": "31451b8a-4128-498d-bc55-4538ff7fb704",
   "metadata": {},
   "source": [
    "# For Bertingkat"
   ]
  },
  {
   "cell_type": "code",
   "execution_count": 4,
   "id": "4651936d-c8f7-46cb-9f7d-1c42a71cc69d",
   "metadata": {},
   "outputs": [
    {
     "name": "stdout",
     "output_type": "stream",
     "text": [
      "* * * * * \n",
      "* * * * \n",
      "* * * \n",
      "* * \n",
      "* \n"
     ]
    }
   ],
   "source": [
    "for row in range(5):\n",
    "    for col in range(5):\n",
    "        if row == 0 and col <=5:\n",
    "            print(\"*\", end = \" \")\n",
    "        elif row == 1 and col <4:\n",
    "            print(\"*\", end = \" \")\n",
    "        elif row == 2 and col <3:\n",
    "            print(\"*\", end = \" \")\n",
    "        elif row == 3 and col <2:\n",
    "            print(\"*\", end = \" \")\n",
    "        elif row == 4 and col <1:\n",
    "            print(\"*\", end = \" \")\n",
    "        elif row == 5 and col <0:\n",
    "            print(\"*\", end = \" \")\n",
    "    print()"
   ]
  },
  {
   "cell_type": "markdown",
   "id": "2e8fa0b9-b5b3-48e9-9ce9-f076336364f6",
   "metadata": {},
   "source": [
    "# Else setelah For"
   ]
  },
  {
   "cell_type": "markdown",
   "id": "bfcf45eb-b04f-4466-8059-f977b278c11c",
   "metadata": {},
   "source": [
    "**Fungsi else setelah for adalah fungsinya diutamakan pada perulangan yang bersifat pencairan - untuk memberikan jalan keluar program saat pencairan tidak di temukan**"
   ]
  },
  {
   "cell_type": "code",
   "execution_count": 5,
   "id": "aa6a5cd0-b33c-4195-a1d9-9e7273af2f31",
   "metadata": {},
   "outputs": [
    {
     "name": "stdout",
     "output_type": "stream",
     "text": [
      "0 adalah genap\n",
      "1 adalah ganjil\n",
      "2 adalah genap\n",
      "3 adalah ganjil\n",
      "4 adalah genap\n",
      "5 adalah ganjil\n"
     ]
    }
   ],
   "source": [
    "for i in range(0,6):\n",
    "    if i % 2 == 0:\n",
    "        print(\"{} adalah genap\".format(i))\n",
    "    else:\n",
    "        print(\"{} adalah ganjil\".format(i))"
   ]
  },
  {
   "cell_type": "code",
   "execution_count": 6,
   "id": "4ff74b1d-f771-4351-8aea-f1346eea3928",
   "metadata": {},
   "outputs": [
    {
     "name": "stdout",
     "output_type": "stream",
     "text": [
      "1 bukan kelipatan 3\n",
      "2 bukan kelipatan 3\n",
      "3 adalah kelipatan 3\n",
      "4 bukan kelipatan 3\n",
      "5 bukan kelipatan 3\n",
      "6 adalah kelipatan 3\n",
      "7 bukan kelipatan 3\n",
      "8 bukan kelipatan 3\n",
      "9 adalah kelipatan 3\n",
      "10 bukan kelipatan 3\n"
     ]
    }
   ],
   "source": [
    "for i in range(1,11):\n",
    "    if i % 3 == 0:\n",
    "        print(\"{} adalah kelipatan 3\".format(i))\n",
    "    else:\n",
    "        print(\"{} bukan kelipatan 3\".format(i))"
   ]
  },
  {
   "cell_type": "markdown",
   "id": "5b49243c-80bd-4905-8f06-c014553e7e52",
   "metadata": {},
   "source": [
    "# Break"
   ]
  },
  {
   "cell_type": "markdown",
   "id": "b1361d84-c7bc-4bb4-a033-1ae92af53978",
   "metadata": {},
   "source": [
    "- Pernyataan break menghentikan perulangan kemudian keluar, dilanjutkan dengan mengeksekusi penyataan (statement) setelah blok perulangan\n",
    "- Jika Anda memiliki perulangan bertingkat, break akan menghentikan perulangan sesuai dengan tingkatan atau di perulangan mana ia berada\n",
    "- Namun jika ia di letakkan di perulangan dengan kedalaman kedua misalnya, hanya perulangan itu saja yang berhenti tidak dengan perulangan utama"
   ]
  },
  {
   "cell_type": "code",
   "execution_count": 7,
   "id": "c05402ad-5d83-4226-bd3a-699008120bf4",
   "metadata": {},
   "outputs": [
    {
     "name": "stdout",
     "output_type": "stream",
     "text": [
      "K\n",
      "e\n",
      "l\n",
      "o\n"
     ]
    }
   ],
   "source": [
    "for i in \"Kelompok 4\":\n",
    "    if i == \"m\":\n",
    "        break\n",
    "    print(i)"
   ]
  },
  {
   "cell_type": "markdown",
   "id": "11290fae-0bda-4134-8e82-f9d50cd4a4da",
   "metadata": {},
   "source": [
    "# Continue"
   ]
  },
  {
   "cell_type": "markdown",
   "id": "de389230-7c4c-4ade-bbf5-b5e67bea0582",
   "metadata": {},
   "source": [
    "- Pernyataan continue akan membuat iterasi saat ini berhenti\n",
    "- kemudian melanjutkan ke iterasi berikutnya\n",
    "- mengabaikan pernyataan (statement) yang berada antara continue hingga akhir blok perulangan"
   ]
  },
  {
   "cell_type": "code",
   "execution_count": 8,
   "id": "a78a846c-221a-4e95-9422-78628968202c",
   "metadata": {},
   "outputs": [
    {
     "name": "stdout",
     "output_type": "stream",
     "text": [
      "a\n",
      "m\n",
      "p\n",
      "u\n",
      "s\n",
      " \n",
      "m\n",
      "e\n",
      "r\n",
      "d\n",
      "e\n",
      "a\n"
     ]
    }
   ],
   "source": [
    "for i in \"kampus merdeka\":\n",
    "    if i == \"k\":\n",
    "        continue\n",
    "    print(i)"
   ]
  },
  {
   "cell_type": "code",
   "execution_count": null,
   "id": "339ba494-aa32-420d-8765-ec5a4a490919",
   "metadata": {},
   "outputs": [],
   "source": []
  }
 ],
 "metadata": {
  "kernelspec": {
   "display_name": "Python 3 (ipykernel)",
   "language": "python",
   "name": "python3"
  },
  "language_info": {
   "codemirror_mode": {
    "name": "ipython",
    "version": 3
   },
   "file_extension": ".py",
   "mimetype": "text/x-python",
   "name": "python",
   "nbconvert_exporter": "python",
   "pygments_lexer": "ipython3",
   "version": "3.11.7"
  }
 },
 "nbformat": 4,
 "nbformat_minor": 5
}
