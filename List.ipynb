{
 "cells": [
  {
   "cell_type": "markdown",
   "id": "74ab6fe6-84af-4201-8124-80e9df842072",
   "metadata": {},
   "source": [
    "# **LIST**"
   ]
  },
  {
   "cell_type": "markdown",
   "id": "2f1adb0e-798f-4736-af91-be628f687165",
   "metadata": {},
   "source": [
    "**- Lists are used to store multiple items in a single variable. List are one of the data types in Python used to store collections of data.**\n",
    "\n",
    "**- Lists are created using square brackets. List items are ordered, changeable, and allow duplicate values. Lists can contain elements with different data types**\n",
    "\n",
    "**- List items are indexed, the first item has index [0], the second item has index [1] etc.**"
   ]
  },
  {
   "cell_type": "code",
   "execution_count": 1,
   "id": "46aacaa3-2be0-4c5c-bfff-3fac38eea89b",
   "metadata": {},
   "outputs": [],
   "source": [
    "a = [2, 3.6, \"Sembilan\"]"
   ]
  },
  {
   "cell_type": "code",
   "execution_count": 4,
   "id": "5517b88f-996c-44e0-869f-64c361d29c67",
   "metadata": {},
   "outputs": [
    {
     "name": "stdout",
     "output_type": "stream",
     "text": [
      "[2, 3.6, 'Sembilan']\n"
     ]
    }
   ],
   "source": [
    "print(a)"
   ]
  },
  {
   "cell_type": "code",
   "execution_count": 5,
   "id": "607b7f5b-cfd1-426a-a475-5b9a211c36a6",
   "metadata": {},
   "outputs": [
    {
     "data": {
      "text/plain": [
       "list"
      ]
     },
     "execution_count": 5,
     "metadata": {},
     "output_type": "execute_result"
    }
   ],
   "source": [
    "type(a)"
   ]
  },
  {
   "cell_type": "code",
   "execution_count": 2,
   "id": "b6a31a04-49e9-46d2-9883-e07819179b4f",
   "metadata": {},
   "outputs": [],
   "source": [
    "b = [5,8,1]"
   ]
  },
  {
   "cell_type": "code",
   "execution_count": 3,
   "id": "5c901a1e-e646-44c8-bc03-70fdcb53250b",
   "metadata": {},
   "outputs": [
    {
     "name": "stdout",
     "output_type": "stream",
     "text": [
      "[5, 8, 1]\n"
     ]
    }
   ],
   "source": [
    "print(b)"
   ]
  },
  {
   "cell_type": "markdown",
   "id": "b04865e1-44dc-48df-a843-034eb9d9b0dd",
   "metadata": {},
   "source": [
    "**Setiap data didalamnya dapat diakses dengan indeks yang dimulai dari 0**"
   ]
  },
  {
   "cell_type": "code",
   "execution_count": 6,
   "id": "62e32eeb-1778-4c0d-9841-9f30b8f28361",
   "metadata": {},
   "outputs": [
    {
     "data": {
      "text/plain": [
       "2"
      ]
     },
     "execution_count": 6,
     "metadata": {},
     "output_type": "execute_result"
    }
   ],
   "source": [
    "a[0]"
   ]
  },
  {
   "cell_type": "code",
   "execution_count": 7,
   "id": "31fe29e4-773c-408d-8fd8-40a1ca17e834",
   "metadata": {},
   "outputs": [
    {
     "data": {
      "text/plain": [
       "3.6"
      ]
     },
     "execution_count": 7,
     "metadata": {},
     "output_type": "execute_result"
    }
   ],
   "source": [
    "a[1]"
   ]
  },
  {
   "cell_type": "code",
   "execution_count": 8,
   "id": "44af2e79-4688-47ba-8488-989687a29a5b",
   "metadata": {},
   "outputs": [
    {
     "data": {
      "text/plain": [
       "int"
      ]
     },
     "execution_count": 8,
     "metadata": {},
     "output_type": "execute_result"
    }
   ],
   "source": [
    "type(a[0])"
   ]
  },
  {
   "cell_type": "code",
   "execution_count": 10,
   "id": "eef3548f-1898-4c6d-ad21-a6b04dc154f0",
   "metadata": {},
   "outputs": [
    {
     "data": {
      "text/plain": [
       "float"
      ]
     },
     "execution_count": 10,
     "metadata": {},
     "output_type": "execute_result"
    }
   ],
   "source": [
    "type(a[1])"
   ]
  },
  {
   "cell_type": "code",
   "execution_count": 9,
   "id": "56787cab-4e5e-4264-99f6-fff5f9b2debd",
   "metadata": {},
   "outputs": [
    {
     "data": {
      "text/plain": [
       "str"
      ]
     },
     "execution_count": 9,
     "metadata": {},
     "output_type": "execute_result"
    }
   ],
   "source": [
    "type(a[2])"
   ]
  }
 ],
 "metadata": {
  "kernelspec": {
   "display_name": "Python 3 (ipykernel)",
   "language": "python",
   "name": "python3"
  },
  "language_info": {
   "codemirror_mode": {
    "name": "ipython",
    "version": 3
   },
   "file_extension": ".py",
   "mimetype": "text/x-python",
   "name": "python",
   "nbconvert_exporter": "python",
   "pygments_lexer": "ipython3",
   "version": "3.11.7"
  }
 },
 "nbformat": 4,
 "nbformat_minor": 5
}
